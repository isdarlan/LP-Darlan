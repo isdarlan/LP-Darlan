{
  "nbformat": 4,
  "nbformat_minor": 0,
  "metadata": {
    "colab": {
      "provenance": [],
      "authorship_tag": "ABX9TyPq3gYzzqAuWey4E2hcP8Zh",
      "include_colab_link": true
    },
    "kernelspec": {
      "name": "python3",
      "display_name": "Python 3"
    },
    "language_info": {
      "name": "python"
    }
  },
  "cells": [
    {
      "cell_type": "markdown",
      "metadata": {
        "id": "view-in-github",
        "colab_type": "text"
      },
      "source": [
        "<a href=\"https://colab.research.google.com/github/isdarlan/LP-Darlan/blob/main/PROVA_de_DARLAN.ipynb\" target=\"_parent\"><img src=\"https://colab.research.google.com/assets/colab-badge.svg\" alt=\"Open In Colab\"/></a>"
      ]
    },
    {
      "cell_type": "markdown",
      "source": [],
      "metadata": {
        "id": "8Vm0Bs9pDHtI"
      }
    },
    {
      "cell_type": "markdown",
      "source": [
        "Q-1"
      ],
      "metadata": {
        "id": "7UeaIA3dQyL5"
      }
    },
    {
      "cell_type": "code",
      "source": [
        "num1 = int(input(\"Digite o numero 1: \"))\n",
        "num2 = int(input(\"Digite o numero 2: \"))\n",
        "num3 = int(input(\"Digite o numero 3: \"))\n",
        "\n",
        "# 3 4 5\n",
        "\n",
        "if num1 > num3:\n",
        "    aux = num1\n",
        "    num1 = num3\n",
        "    num3 = aux\n",
        "\n",
        "if num1 > num2:\n",
        "    aux = num1\n",
        "    num1 = num2\n",
        "    num2 = aux\n",
        "\n",
        "if num2 > num3:\n",
        "    aux = num2\n",
        "    num2 = num3\n",
        "    num3 = aux\n",
        "\n",
        "print(f\"o valor 1: {num1} o valor 2: {num2} e o valor3:  {num3}\")\n",
        "#printf(\"Digite o numero 1,2 e 3: \");\n",
        "#scanf(\"%d %d %d\", &num1, &num2, &num3);\n",
        "\n",
        "#// 3 4 5\n",
        "\n",
        "#if(num1>num3){\n",
        "#    aux = num1;\n",
        "#    num1 = num3;\n",
        "#    num3 = aux;\n",
        "\n",
        "#}\n",
        "\n",
        "#if(num1>num2){\n",
        "#    aux = num1;\n",
        "#    num1 = num2;\n",
        "#    num2 = aux;\n",
        "\n",
        "#}\n",
        "\n",
        "#if(num2>num3){\n",
        "#    aux = num2;\n",
        "#    num2 = num3;\n",
        "#    num3 = aux;\n",
        "\n",
        "#}\n",
        "\n",
        "#printf(\"o valor 1: %d o valor 2: %d e o valor3:  %d\", num1, num2, num3);\n",
        "\n",
        "#return 0;\n",
        "num2 = int(input(\"Digite o numero 2: \"))\n",
        "num3 = int(input(\"Digite o numero 3: \"))\n",
        "\n",
        "# 3 4 5\n",
        "\n",
        "if num1 > num3:\n",
        "    aux = num1\n",
        "    num1 = num3\n",
        "    num3 = aux\n",
        "\n",
        "if num1 > num2:\n",
        "    aux = num1\n",
        "    num1 = num2\n",
        "    num2 = aux\n",
        "\n",
        "if num2 > num3:\n",
        "    aux = num2\n",
        "    num2 = num3\n",
        "    num3 = aux\n",
        "\n",
        "num1 = int(input(\"Digite o numero 1: \"))\n",
        "num2 = int(input(\"Digite o numero 2: \"))\n",
        "num3 = int(input(\"Digite o numero 3: \"))\n",
        "\n",
        "# 3 4 5\n",
        "\n",
        "if num1 > num3:\n",
        "    aux = num1\n",
        "    num1 = num3\n",
        "    num3 = aux\n",
        "\n",
        "if num1 > num2:\n",
        "    aux = num1\n",
        "    num1 = num2\n",
        "    num2 = aux\n",
        "\n",
        "if num2 > num3:\n",
        "    aux = num2\n",
        "    num2 = num3\n",
        "    num3 = aux\n",
        "\n",
        "print(f\"o valor 1: {num1} o valor 2: {num2} e o valor3:  {num3}\")\n",
        "#printf(\"Digite o numero 1,2 e 3: \");\n",
        "#scanf(\"%d %d %d\", &num1, &num2, &num3);\n",
        "\n",
        "#// 3 4 5\n",
        "\n",
        "#if(num1>num3){\n",
        "#    aux = num1;\n",
        "#    num1 = num3;\n",
        "#    num3 = aux;\n",
        "\n",
        "#}\n",
        "\n",
        "#if(num1>num2){\n",
        "#    aux = num1;\n",
        "#    num1 = num2;\n",
        "#    num2 = aux;\n",
        "\n",
        "#}\n",
        "\n",
        "#if(num2>num3){\n",
        "#    aux = num2;\n",
        "#    num2 = num3;\n",
        "#    num3 = aux;\n",
        "\n",
        "#}\n",
        "\n",
        "#printf(\"o valor 1: %d o valor 2: %d e o valor3:  %d\", num1, num2, num3);\n",
        "\n",
        "#return 0;\n",
        "#num2 = int(input(\"Digite o numero 2: \"))\n",
        "#num3 = int(input(\"Digite o numero 3: \"))\n",
        "\n",
        "# 3 4 5\n",
        "\n",
        "#if num1 > num3:\n",
        "#    aux = num1\n",
        "#    num1 = num3\n",
        "#    num3 = aux\n",
        "\n",
        "#if num1 > num2:\n",
        "#    aux = num1\n",
        "#    num1 = num2\n",
        "#    num2 = aux\n",
        "\n",
        "#if num2 > num3:\n",
        "#    aux = num2\n",
        "#    num2 = num3\n",
        "#    num3 = aux\n",
        "\n",
        "#print(f\"o valor 1: {num1} o valor 2: {num2} e o valor3:  {num3}\")\n",
        "#printf(\"Digite o numero 1,2 e 3: \");\n",
        "#scanf(\"%d %d %d\", &num1, &num2, &num3);\n",
        "\n",
        "#// 3 4 5\n",
        "\n",
        "#if(num1>num3){\n",
        "#    aux = num1;\n",
        "#    num1 = num3;\n",
        "#    num3 = aux;\n",
        "\n",
        "#}\n",
        "\n",
        "#if(num1>num2){\n",
        "#    aux = num1;\n",
        "#    num1 = num2;\n",
        "#    num2 = aux;\n",
        "\n",
        "#}\n",
        "\n",
        "#if(num2>num3){\n",
        "#    aux = num2;\n",
        "#    num2 = num3;\n",
        "#    num3 = aux;\n",
        "\n",
        "#}\n",
        "\n",
        "#printf(\"o valor 1: %d o valor 2: %d e o valor3:  %d\", num1, num2, num3);\n",
        "\n",
        "#return 0;\n",
        "\n",
        "if(num1>num3){\n",
        "    aux = num1;\n",
        "    num1 = num3;\n",
        "    num3 = aux;\n",
        "\n",
        "}\n",
        "\n",
        "if(num1>num2){\n",
        "    aux = num1;\n",
        "    num1 = num2;\n",
        "    num2 = aux;\n",
        "\n",
        "}\n",
        "\n",
        "if(num2>num3){\n",
        "    aux = num2;\n",
        "    num2 = num3;\n",
        "    num3 = aux;\n",
        "\n",
        "}\n",
        "\n",
        "printf(\"o valor 1: %d o valor 2: %d e o valor3:  %d\", num1, num2, num3);\n",
        "\n",
        "return 0;\n"
      ],
      "metadata": {
        "colab": {
          "base_uri": "https://localhost:8080/",
          "height": 106
        },
        "id": "RqqeIZ75JhhQ",
        "outputId": "f4fb069e-1fd5-4760-e5ad-3b4990ff1821"
      },
      "execution_count": 19,
      "outputs": [
        {
          "output_type": "error",
          "ename": "SyntaxError",
          "evalue": "invalid syntax (<ipython-input-19-d4db87adf392>, line 74)",
          "traceback": [
            "\u001b[0;36m  File \u001b[0;32m\"<ipython-input-19-d4db87adf392>\"\u001b[0;36m, line \u001b[0;32m74\u001b[0m\n\u001b[0;31m    scanf(\"%d %d %d\", &num1, &num2, &num3);\u001b[0m\n\u001b[0m                      ^\u001b[0m\n\u001b[0;31mSyntaxError\u001b[0m\u001b[0;31m:\u001b[0m invalid syntax\n"
          ]
        }
      ]
    },
    {
      "cell_type": "code",
      "source": [],
      "metadata": {
        "id": "P7G3Q0ylQfq8"
      },
      "execution_count": null,
      "outputs": []
    },
    {
      "cell_type": "markdown",
      "source": [
        "Q-2"
      ],
      "metadata": {
        "id": "v4-owjNTQs4K"
      }
    },
    {
      "cell_type": "code",
      "source": [
        "# Exibir os 100 primeiros numeros naturais (de 0 a 99)\n",
        "for i in range(100):\n",
        "    print(i)"
      ],
      "metadata": {
        "colab": {
          "base_uri": "https://localhost:8080/"
        },
        "id": "54EdqvNpOwY-",
        "outputId": "9e59ab39-e4a8-4926-f2bf-a71899c33e63"
      },
      "execution_count": 17,
      "outputs": [
        {
          "output_type": "stream",
          "name": "stdout",
          "text": [
            "0\n",
            "1\n",
            "2\n",
            "3\n",
            "4\n",
            "5\n",
            "6\n",
            "7\n",
            "8\n",
            "9\n",
            "10\n",
            "11\n",
            "12\n",
            "13\n",
            "14\n",
            "15\n",
            "16\n",
            "17\n",
            "18\n",
            "19\n",
            "20\n",
            "21\n",
            "22\n",
            "23\n",
            "24\n",
            "25\n",
            "26\n",
            "27\n",
            "28\n",
            "29\n",
            "30\n",
            "31\n",
            "32\n",
            "33\n",
            "34\n",
            "35\n",
            "36\n",
            "37\n",
            "38\n",
            "39\n",
            "40\n",
            "41\n",
            "42\n",
            "43\n",
            "44\n",
            "45\n",
            "46\n",
            "47\n",
            "48\n",
            "49\n",
            "50\n",
            "51\n",
            "52\n",
            "53\n",
            "54\n",
            "55\n",
            "56\n",
            "57\n",
            "58\n",
            "59\n",
            "60\n",
            "61\n",
            "62\n",
            "63\n",
            "64\n",
            "65\n",
            "66\n",
            "67\n",
            "68\n",
            "69\n",
            "70\n",
            "71\n",
            "72\n",
            "73\n",
            "74\n",
            "75\n",
            "76\n",
            "77\n",
            "78\n",
            "79\n",
            "80\n",
            "81\n",
            "82\n",
            "83\n",
            "84\n",
            "85\n",
            "86\n",
            "87\n",
            "88\n",
            "89\n",
            "90\n",
            "91\n",
            "92\n",
            "93\n",
            "94\n",
            "95\n",
            "96\n",
            "97\n",
            "98\n",
            "99\n"
          ]
        }
      ]
    },
    {
      "cell_type": "markdown",
      "source": [
        "Q-3"
      ],
      "metadata": {
        "id": "z9g9TLl3Q2oA"
      }
    },
    {
      "cell_type": "code",
      "source": [
        "# Lê o nome do convidado\n",
        "nome = input()\n",
        "\n",
        "# Exibe a mensagem de boas-vindas\n",
        "printf(f\"Seja bem-vindo,{nome}\")"
      ],
      "metadata": {
        "colab": {
          "base_uri": "https://localhost:8080/",
          "height": 356
        },
        "id": "2uLThl7wQrIV",
        "outputId": "059e4597-2c2a-4a5f-a09b-848a8ae64b89"
      },
      "execution_count": 22,
      "outputs": [
        {
          "output_type": "error",
          "ename": "KeyboardInterrupt",
          "evalue": "Interrupted by user",
          "traceback": [
            "\u001b[0;31m---------------------------------------------------------------------------\u001b[0m",
            "\u001b[0;31mKeyboardInterrupt\u001b[0m                         Traceback (most recent call last)",
            "\u001b[0;32m<ipython-input-22-2630dc17f48d>\u001b[0m in \u001b[0;36m<cell line: 0>\u001b[0;34m()\u001b[0m\n\u001b[1;32m      1\u001b[0m \u001b[0;31m# Lê o nome do convidado\u001b[0m\u001b[0;34m\u001b[0m\u001b[0;34m\u001b[0m\u001b[0m\n\u001b[0;32m----> 2\u001b[0;31m \u001b[0mnome\u001b[0m \u001b[0;34m=\u001b[0m \u001b[0minput\u001b[0m\u001b[0;34m(\u001b[0m\u001b[0;34m)\u001b[0m\u001b[0;34m\u001b[0m\u001b[0;34m\u001b[0m\u001b[0m\n\u001b[0m\u001b[1;32m      3\u001b[0m \u001b[0;34m\u001b[0m\u001b[0m\n\u001b[1;32m      4\u001b[0m \u001b[0;31m# Exibe a mensagem de boas-vindas\u001b[0m\u001b[0;34m\u001b[0m\u001b[0;34m\u001b[0m\u001b[0m\n\u001b[1;32m      5\u001b[0m \u001b[0mprintf\u001b[0m\u001b[0;34m(\u001b[0m\u001b[0;34mf\"Seja bem-vindo,{nome}\"\u001b[0m\u001b[0;34m)\u001b[0m\u001b[0;34m\u001b[0m\u001b[0;34m\u001b[0m\u001b[0m\n",
            "\u001b[0;32m/usr/local/lib/python3.11/dist-packages/ipykernel/kernelbase.py\u001b[0m in \u001b[0;36mraw_input\u001b[0;34m(self, prompt)\u001b[0m\n\u001b[1;32m   1175\u001b[0m                 \u001b[0;34m\"raw_input was called, but this frontend does not support input requests.\"\u001b[0m\u001b[0;34m\u001b[0m\u001b[0;34m\u001b[0m\u001b[0m\n\u001b[1;32m   1176\u001b[0m             )\n\u001b[0;32m-> 1177\u001b[0;31m         return self._input_request(\n\u001b[0m\u001b[1;32m   1178\u001b[0m             \u001b[0mstr\u001b[0m\u001b[0;34m(\u001b[0m\u001b[0mprompt\u001b[0m\u001b[0;34m)\u001b[0m\u001b[0;34m,\u001b[0m\u001b[0;34m\u001b[0m\u001b[0;34m\u001b[0m\u001b[0m\n\u001b[1;32m   1179\u001b[0m             \u001b[0mself\u001b[0m\u001b[0;34m.\u001b[0m\u001b[0m_parent_ident\u001b[0m\u001b[0;34m[\u001b[0m\u001b[0;34m\"shell\"\u001b[0m\u001b[0;34m]\u001b[0m\u001b[0;34m,\u001b[0m\u001b[0;34m\u001b[0m\u001b[0;34m\u001b[0m\u001b[0m\n",
            "\u001b[0;32m/usr/local/lib/python3.11/dist-packages/ipykernel/kernelbase.py\u001b[0m in \u001b[0;36m_input_request\u001b[0;34m(self, prompt, ident, parent, password)\u001b[0m\n\u001b[1;32m   1217\u001b[0m             \u001b[0;32mexcept\u001b[0m \u001b[0mKeyboardInterrupt\u001b[0m\u001b[0;34m:\u001b[0m\u001b[0;34m\u001b[0m\u001b[0;34m\u001b[0m\u001b[0m\n\u001b[1;32m   1218\u001b[0m                 \u001b[0;31m# re-raise KeyboardInterrupt, to truncate traceback\u001b[0m\u001b[0;34m\u001b[0m\u001b[0;34m\u001b[0m\u001b[0m\n\u001b[0;32m-> 1219\u001b[0;31m                 \u001b[0;32mraise\u001b[0m \u001b[0mKeyboardInterrupt\u001b[0m\u001b[0;34m(\u001b[0m\u001b[0;34m\"Interrupted by user\"\u001b[0m\u001b[0;34m)\u001b[0m \u001b[0;32mfrom\u001b[0m \u001b[0;32mNone\u001b[0m\u001b[0;34m\u001b[0m\u001b[0;34m\u001b[0m\u001b[0m\n\u001b[0m\u001b[1;32m   1220\u001b[0m             \u001b[0;32mexcept\u001b[0m \u001b[0mException\u001b[0m\u001b[0;34m:\u001b[0m\u001b[0;34m\u001b[0m\u001b[0;34m\u001b[0m\u001b[0m\n\u001b[1;32m   1221\u001b[0m                 \u001b[0mself\u001b[0m\u001b[0;34m.\u001b[0m\u001b[0mlog\u001b[0m\u001b[0;34m.\u001b[0m\u001b[0mwarning\u001b[0m\u001b[0;34m(\u001b[0m\u001b[0;34m\"Invalid Message:\"\u001b[0m\u001b[0;34m,\u001b[0m \u001b[0mexc_info\u001b[0m\u001b[0;34m=\u001b[0m\u001b[0;32mTrue\u001b[0m\u001b[0;34m)\u001b[0m\u001b[0;34m\u001b[0m\u001b[0;34m\u001b[0m\u001b[0m\n",
            "\u001b[0;31mKeyboardInterrupt\u001b[0m: Interrupted by user"
          ]
        }
      ]
    },
    {
      "cell_type": "markdown",
      "source": [
        "Q-4"
      ],
      "metadata": {
        "id": "wu-YVV-ESR5n"
      }
    },
    {
      "cell_type": "code",
      "source": [
        "def verificar_primo(n):\n",
        "  if n <= 1:\n",
        "    return False\n",
        "    for i in ranger(2, int(n**0.5) + 1):\n",
        "      if n % i == 0:\n",
        "        return False\n",
        "        return True\n",
        "        numero = int(input(\"Digite um numero:\"))\n",
        "def verificar_primo(n):\n",
        "  if n <= 1:\n",
        "    return False\n",
        "  for i in range(2, int(n**0.5) + 1):\n",
        "    if n % i == 0:\n",
        "      return False\n",
        "  return True\n",
        "numero = int(input(\"Digite um numero:\"))\n",
        "if verificar_primo(numero):\n",
        "  print(\"Numero primo\")\n",
        "else:\n",
        "  print(\"Numero não é primo\")"
      ],
      "metadata": {
        "colab": {
          "base_uri": "https://localhost:8080/",
          "height": 356
        },
        "id": "zj8WmWYzSXhf",
        "outputId": "fe6c2dde-f64e-4dd1-a7e1-e1be1ab3f536"
      },
      "execution_count": 27,
      "outputs": [
        {
          "output_type": "error",
          "ename": "KeyboardInterrupt",
          "evalue": "Interrupted by user",
          "traceback": [
            "\u001b[0;31m---------------------------------------------------------------------------\u001b[0m",
            "\u001b[0;31mKeyboardInterrupt\u001b[0m                         Traceback (most recent call last)",
            "\u001b[0;32m<ipython-input-27-5831b01d6ec3>\u001b[0m in \u001b[0;36m<cell line: 0>\u001b[0;34m()\u001b[0m\n\u001b[1;32m     14\u001b[0m       \u001b[0;32mreturn\u001b[0m \u001b[0;32mFalse\u001b[0m\u001b[0;34m\u001b[0m\u001b[0;34m\u001b[0m\u001b[0m\n\u001b[1;32m     15\u001b[0m   \u001b[0;32mreturn\u001b[0m \u001b[0;32mTrue\u001b[0m\u001b[0;34m\u001b[0m\u001b[0;34m\u001b[0m\u001b[0m\n\u001b[0;32m---> 16\u001b[0;31m \u001b[0mnumero\u001b[0m \u001b[0;34m=\u001b[0m \u001b[0mint\u001b[0m\u001b[0;34m(\u001b[0m\u001b[0minput\u001b[0m\u001b[0;34m(\u001b[0m\u001b[0;34m\"Digite um numero:\"\u001b[0m\u001b[0;34m)\u001b[0m\u001b[0;34m)\u001b[0m\u001b[0;34m\u001b[0m\u001b[0;34m\u001b[0m\u001b[0m\n\u001b[0m\u001b[1;32m     17\u001b[0m \u001b[0;32mif\u001b[0m \u001b[0mverificar_primo\u001b[0m\u001b[0;34m(\u001b[0m\u001b[0mnumero\u001b[0m\u001b[0;34m)\u001b[0m\u001b[0;34m:\u001b[0m\u001b[0;34m\u001b[0m\u001b[0;34m\u001b[0m\u001b[0m\n\u001b[1;32m     18\u001b[0m   \u001b[0mprint\u001b[0m\u001b[0;34m(\u001b[0m\u001b[0;34m\"Numero primo\"\u001b[0m\u001b[0;34m)\u001b[0m\u001b[0;34m\u001b[0m\u001b[0;34m\u001b[0m\u001b[0m\n",
            "\u001b[0;32m/usr/local/lib/python3.11/dist-packages/ipykernel/kernelbase.py\u001b[0m in \u001b[0;36mraw_input\u001b[0;34m(self, prompt)\u001b[0m\n\u001b[1;32m   1175\u001b[0m                 \u001b[0;34m\"raw_input was called, but this frontend does not support input requests.\"\u001b[0m\u001b[0;34m\u001b[0m\u001b[0;34m\u001b[0m\u001b[0m\n\u001b[1;32m   1176\u001b[0m             )\n\u001b[0;32m-> 1177\u001b[0;31m         return self._input_request(\n\u001b[0m\u001b[1;32m   1178\u001b[0m             \u001b[0mstr\u001b[0m\u001b[0;34m(\u001b[0m\u001b[0mprompt\u001b[0m\u001b[0;34m)\u001b[0m\u001b[0;34m,\u001b[0m\u001b[0;34m\u001b[0m\u001b[0;34m\u001b[0m\u001b[0m\n\u001b[1;32m   1179\u001b[0m             \u001b[0mself\u001b[0m\u001b[0;34m.\u001b[0m\u001b[0m_parent_ident\u001b[0m\u001b[0;34m[\u001b[0m\u001b[0;34m\"shell\"\u001b[0m\u001b[0;34m]\u001b[0m\u001b[0;34m,\u001b[0m\u001b[0;34m\u001b[0m\u001b[0;34m\u001b[0m\u001b[0m\n",
            "\u001b[0;32m/usr/local/lib/python3.11/dist-packages/ipykernel/kernelbase.py\u001b[0m in \u001b[0;36m_input_request\u001b[0;34m(self, prompt, ident, parent, password)\u001b[0m\n\u001b[1;32m   1217\u001b[0m             \u001b[0;32mexcept\u001b[0m \u001b[0mKeyboardInterrupt\u001b[0m\u001b[0;34m:\u001b[0m\u001b[0;34m\u001b[0m\u001b[0;34m\u001b[0m\u001b[0m\n\u001b[1;32m   1218\u001b[0m                 \u001b[0;31m# re-raise KeyboardInterrupt, to truncate traceback\u001b[0m\u001b[0;34m\u001b[0m\u001b[0;34m\u001b[0m\u001b[0m\n\u001b[0;32m-> 1219\u001b[0;31m                 \u001b[0;32mraise\u001b[0m \u001b[0mKeyboardInterrupt\u001b[0m\u001b[0;34m(\u001b[0m\u001b[0;34m\"Interrupted by user\"\u001b[0m\u001b[0;34m)\u001b[0m \u001b[0;32mfrom\u001b[0m \u001b[0;32mNone\u001b[0m\u001b[0;34m\u001b[0m\u001b[0;34m\u001b[0m\u001b[0m\n\u001b[0m\u001b[1;32m   1220\u001b[0m             \u001b[0;32mexcept\u001b[0m \u001b[0mException\u001b[0m\u001b[0;34m:\u001b[0m\u001b[0;34m\u001b[0m\u001b[0;34m\u001b[0m\u001b[0m\n\u001b[1;32m   1221\u001b[0m                 \u001b[0mself\u001b[0m\u001b[0;34m.\u001b[0m\u001b[0mlog\u001b[0m\u001b[0;34m.\u001b[0m\u001b[0mwarning\u001b[0m\u001b[0;34m(\u001b[0m\u001b[0;34m\"Invalid Message:\"\u001b[0m\u001b[0;34m,\u001b[0m \u001b[0mexc_info\u001b[0m\u001b[0;34m=\u001b[0m\u001b[0;32mTrue\u001b[0m\u001b[0;34m)\u001b[0m\u001b[0;34m\u001b[0m\u001b[0;34m\u001b[0m\u001b[0m\n",
            "\u001b[0;31mKeyboardInterrupt\u001b[0m: Interrupted by user"
          ]
        }
      ]
    },
    {
      "cell_type": "markdown",
      "source": [
        "Q-5"
      ],
      "metadata": {
        "id": "CLPLlrJ9V6EO"
      }
    },
    {
      "cell_type": "code",
      "source": [
        "# calcular media baseado na quantidade de alunos e verificar\n",
        "qal = int(input(\"digite a quantidade de alunos:\")) # a quantidade de alunos\n",
        "notas = [] #lista que vai receber as notas\n",
        "\n",
        "for c in range (qal): #loop para poder recebeer a quantidade de notas equivalentes a de alunos\n",
        "nota = float(input(\"digite a nota do aluno {}: .format(c+!)\")) #pedindo a nota correspondente\n",
        "notas.append(nota) #adicionando o valor a lista\n",
        "\n",
        "media = sum(notas) / qal #calculando a media ao somar as notas dentro da lista e dividir pela qtd\n",
        "limite_superior = media * 1.1 #definindo o limite acima de de 10%\n",
        "limite_inferior = media * 0.9 #definindo os limites abaixo de 10%\n",
        "\n",
        "\n",
        "acima_10_media = [nota for nota in notas if nota > limite_superior] #verificando notas acima de 1\n",
        "abaixo_10_media = [nota for nota in notas if nota < limite_inferior] #verificando notas abaixo de\n",
        "\n",
        "print(f\"media das notas: {media:.2f}\") #Imprimindo a media formatada em 2 casas decimais\n",
        "print(f\"notas 10% acima da media: {acima_10_media}\") #Imprimindo as notas acima de 10%\n",
        "print(f\"notas abaixo da media: {abaixo_10_media}\") #Imprimindo as notas abaixo de 10%"
      ],
      "metadata": {
        "id": "S3E4NkpEV_gq"
      },
      "execution_count": null,
      "outputs": []
    },
    {
      "cell_type": "markdown",
      "source": [
        "Q-6"
      ],
      "metadata": {
        "id": "0S9Z49eGXvjC"
      }
    },
    {
      "cell_type": "code",
      "source": [
        "string = input(\"Digite uma palavra:\")\n",
        "inversa = string[::-1]\n",
        "print(\"String invertida:\", inversa)\n"
      ],
      "metadata": {
        "colab": {
          "base_uri": "https://localhost:8080/",
          "height": 321
        },
        "id": "W6A_0hFWXyn2",
        "outputId": "da1e3e2a-9acf-4ff0-b02d-dbed0ec582ed"
      },
      "execution_count": 29,
      "outputs": [
        {
          "output_type": "error",
          "ename": "KeyboardInterrupt",
          "evalue": "Interrupted by user",
          "traceback": [
            "\u001b[0;31m---------------------------------------------------------------------------\u001b[0m",
            "\u001b[0;31mKeyboardInterrupt\u001b[0m                         Traceback (most recent call last)",
            "\u001b[0;32m<ipython-input-29-507a95e90a89>\u001b[0m in \u001b[0;36m<cell line: 0>\u001b[0;34m()\u001b[0m\n\u001b[0;32m----> 1\u001b[0;31m \u001b[0mstring\u001b[0m \u001b[0;34m=\u001b[0m \u001b[0minput\u001b[0m\u001b[0;34m(\u001b[0m\u001b[0;34m\"JANELA:\"\u001b[0m\u001b[0;34m)\u001b[0m\u001b[0;34m\u001b[0m\u001b[0;34m\u001b[0m\u001b[0m\n\u001b[0m\u001b[1;32m      2\u001b[0m \u001b[0minversa\u001b[0m \u001b[0;34m=\u001b[0m \u001b[0mstring\u001b[0m\u001b[0;34m[\u001b[0m\u001b[0;34m:\u001b[0m\u001b[0;34m:\u001b[0m\u001b[0;34m-\u001b[0m\u001b[0;36m1\u001b[0m\u001b[0;34m]\u001b[0m\u001b[0;34m\u001b[0m\u001b[0;34m\u001b[0m\u001b[0m\n\u001b[1;32m      3\u001b[0m \u001b[0mprint\u001b[0m\u001b[0;34m(\u001b[0m\u001b[0;34m\"String invertida:\"\u001b[0m\u001b[0;34m,\u001b[0m \u001b[0minversa\u001b[0m\u001b[0;34m)\u001b[0m\u001b[0;34m\u001b[0m\u001b[0;34m\u001b[0m\u001b[0m\n",
            "\u001b[0;32m/usr/local/lib/python3.11/dist-packages/ipykernel/kernelbase.py\u001b[0m in \u001b[0;36mraw_input\u001b[0;34m(self, prompt)\u001b[0m\n\u001b[1;32m   1175\u001b[0m                 \u001b[0;34m\"raw_input was called, but this frontend does not support input requests.\"\u001b[0m\u001b[0;34m\u001b[0m\u001b[0;34m\u001b[0m\u001b[0m\n\u001b[1;32m   1176\u001b[0m             )\n\u001b[0;32m-> 1177\u001b[0;31m         return self._input_request(\n\u001b[0m\u001b[1;32m   1178\u001b[0m             \u001b[0mstr\u001b[0m\u001b[0;34m(\u001b[0m\u001b[0mprompt\u001b[0m\u001b[0;34m)\u001b[0m\u001b[0;34m,\u001b[0m\u001b[0;34m\u001b[0m\u001b[0;34m\u001b[0m\u001b[0m\n\u001b[1;32m   1179\u001b[0m             \u001b[0mself\u001b[0m\u001b[0;34m.\u001b[0m\u001b[0m_parent_ident\u001b[0m\u001b[0;34m[\u001b[0m\u001b[0;34m\"shell\"\u001b[0m\u001b[0;34m]\u001b[0m\u001b[0;34m,\u001b[0m\u001b[0;34m\u001b[0m\u001b[0;34m\u001b[0m\u001b[0m\n",
            "\u001b[0;32m/usr/local/lib/python3.11/dist-packages/ipykernel/kernelbase.py\u001b[0m in \u001b[0;36m_input_request\u001b[0;34m(self, prompt, ident, parent, password)\u001b[0m\n\u001b[1;32m   1217\u001b[0m             \u001b[0;32mexcept\u001b[0m \u001b[0mKeyboardInterrupt\u001b[0m\u001b[0;34m:\u001b[0m\u001b[0;34m\u001b[0m\u001b[0;34m\u001b[0m\u001b[0m\n\u001b[1;32m   1218\u001b[0m                 \u001b[0;31m# re-raise KeyboardInterrupt, to truncate traceback\u001b[0m\u001b[0;34m\u001b[0m\u001b[0;34m\u001b[0m\u001b[0m\n\u001b[0;32m-> 1219\u001b[0;31m                 \u001b[0;32mraise\u001b[0m \u001b[0mKeyboardInterrupt\u001b[0m\u001b[0;34m(\u001b[0m\u001b[0;34m\"Interrupted by user\"\u001b[0m\u001b[0;34m)\u001b[0m \u001b[0;32mfrom\u001b[0m \u001b[0;32mNone\u001b[0m\u001b[0;34m\u001b[0m\u001b[0;34m\u001b[0m\u001b[0m\n\u001b[0m\u001b[1;32m   1220\u001b[0m             \u001b[0;32mexcept\u001b[0m \u001b[0mException\u001b[0m\u001b[0;34m:\u001b[0m\u001b[0;34m\u001b[0m\u001b[0;34m\u001b[0m\u001b[0m\n\u001b[1;32m   1221\u001b[0m                 \u001b[0mself\u001b[0m\u001b[0;34m.\u001b[0m\u001b[0mlog\u001b[0m\u001b[0;34m.\u001b[0m\u001b[0mwarning\u001b[0m\u001b[0;34m(\u001b[0m\u001b[0;34m\"Invalid Message:\"\u001b[0m\u001b[0;34m,\u001b[0m \u001b[0mexc_info\u001b[0m\u001b[0;34m=\u001b[0m\u001b[0;32mTrue\u001b[0m\u001b[0;34m)\u001b[0m\u001b[0;34m\u001b[0m\u001b[0;34m\u001b[0m\u001b[0m\n",
            "\u001b[0;31mKeyboardInterrupt\u001b[0m: Interrupted by user"
          ]
        }
      ]
    },
    {
      "cell_type": "markdown",
      "source": [
        "Q-7"
      ],
      "metadata": {
        "id": "FX8ljF3QY7MH"
      }
    },
    {
      "cell_type": "code",
      "source": [
        "palavra1 = input(\"qual a string?\")\n",
        "caracter1 = input(\"qual vai ser substituido?\")\n",
        "caracter2 = input(\"vai ser o substituido\")\n",
        "palavra2 = palavra1.replace(caracter1, caracter2)\n",
        "\n"
      ],
      "metadata": {
        "id": "L6Cwr2oNZLEv"
      },
      "execution_count": null,
      "outputs": []
    },
    {
      "cell_type": "markdown",
      "source": [
        "Q-8"
      ],
      "metadata": {
        "id": "D9IU8DGBaNN-"
      }
    },
    {
      "cell_type": "code",
      "source": [
        "palavra = input(\"escreva uma palavra aqui\")\n",
        "letra = input(\"essa letra existe na palavra?\")\n",
        "achado = palavra.find(letra)\n",
        "print(achado)\n"
      ],
      "metadata": {
        "id": "0T8Xpq-zaRRh"
      },
      "execution_count": null,
      "outputs": []
    },
    {
      "cell_type": "markdown",
      "source": [
        "Q-9"
      ],
      "metadata": {
        "id": "G929s5JBaz0Y"
      }
    },
    {
      "cell_type": "code",
      "source": [
        "# Leitura dos valores de entrada\n",
        "x = int(input(\"digite o valor de x:\"))\n",
        "y = int(input(\"digite o valor de y:\"))\n",
        "\n",
        "# Determinar o intervalo de forma correta\n",
        "start = min(x, y)\n",
        "end = max(x, y)\n",
        "\n",
        "# Iterar pelos valores entre start e end\n",
        "for num in range(start, end + 1):\n",
        "  resto = num % 5\n",
        "  if resto == 2 or resto == 3:\n",
        "    print(num)\n",
        ""
      ],
      "metadata": {
        "id": "LwpeDSSZa3s0"
      },
      "execution_count": null,
      "outputs": []
    },
    {
      "cell_type": "markdown",
      "source": [
        "Q-10"
      ],
      "metadata": {
        "id": "rFo4mjq_ckNC"
      }
    },
    {
      "cell_type": "code",
      "source": [
        "# Solicita ao usuario o numero de elementos\n",
        "n = int(input(\"quantos numeros voçê deseja inserir? \"))\n",
        "\n",
        "# Cria uma lista para armazenar os numeros\n",
        "numeros = []\n",
        "\n",
        "# Lê os numeros do usuario for i in range(n):\n",
        "num = int(input(f\"digite o numero {i+1}:\"))\n",
        "numeros.append(num)\n",
        "\n",
        "# A, Imprime na ordem inversa print(\"Ordem inversa dos numeros:\")\n",
        "for num in reversed(numeros):\n",
        "  print (num)\n",
        "\n",
        "# B, Imprime ordenado em ordem decrescente\n",
        "\n",
        "numeros_ordenados = sorted(numeros,reverse=true)\n",
        "print(\"numeros ordenados em ordem decrescente:\")\n",
        "for num in numeros_ordenados:\n",
        "  print(num)"
      ],
      "metadata": {
        "id": "uQ5Upzc4coS6"
      },
      "execution_count": null,
      "outputs": []
    }
  ]
}